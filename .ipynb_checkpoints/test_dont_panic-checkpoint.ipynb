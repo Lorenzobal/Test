{
 "cells": [
  {
   "cell_type": "code",
   "execution_count": 1,
   "id": "a6e92eef",
   "metadata": {},
   "outputs": [
    {
     "name": "stdout",
     "output_type": "stream",
     "text": [
      "but they don't know what is what\n"
     ]
    }
   ],
   "source": [
    "print(\"but they don't know what is what\")"
   ]
  },
  {
   "cell_type": "code",
   "execution_count": 2,
   "id": "75f2abe5",
   "metadata": {},
   "outputs": [
    {
     "name": "stdout",
     "output_type": "stream",
     "text": [
      "and then Id' make a change\n"
     ]
    }
   ],
   "source": [
    "print(\"and then Id' make a change\")"
   ]
  },
  {
   "cell_type": "code",
   "execution_count": null,
   "id": "9aad401d",
   "metadata": {},
   "outputs": [],
   "source": [
    "print(\"Oh another one !!\")"
   ]
  }
 ],
 "metadata": {
  "kernelspec": {
   "display_name": "Python 3 (ipykernel)",
   "language": "python",
   "name": "python3"
  },
  "language_info": {
   "codemirror_mode": {
    "name": "ipython",
    "version": 3
   },
   "file_extension": ".py",
   "mimetype": "text/x-python",
   "name": "python",
   "nbconvert_exporter": "python",
   "pygments_lexer": "ipython3",
   "version": "3.11.4"
  }
 },
 "nbformat": 4,
 "nbformat_minor": 5
}
